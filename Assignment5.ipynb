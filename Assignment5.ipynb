{
 "cells": [
  {
   "cell_type": "code",
   "execution_count": null,
   "id": "f9d04a76-0441-4067-90ea-92b32a4203dc",
   "metadata": {},
   "outputs": [],
   "source": [
    "# Implement the Continuous Bag of Words (CBOW) Model. Stages can be:\n",
    "# a . Data preparation\n",
    "# b. Generate training data\n",
    "# c. Train model\n",
    "# d. Output"
   ]
  },
  {
   "cell_type": "code",
   "execution_count": 53,
   "id": "5ebc04b9-9e22-42cc-bdca-f933f0383355",
   "metadata": {},
   "outputs": [],
   "source": [
    "import numpy as np\n",
    "import re\n",
    "from tensorflow.keras.preprocessing.text import Tokenizer\n",
    "import tensorflow as tf\n",
    "from tensorflow.keras.models import Sequential\n",
    "from tensorflow.keras.layers import Dense, Embedding, Lambda \n",
    "#%pip install seaborn\n",
    "import seaborn as sns"
   ]
  },
  {
   "cell_type": "markdown",
   "id": "52fd007a-ab49-4775-864b-7659f13a2396",
   "metadata": {},
   "source": [
    "# A.Data Preparation"
   ]
  },
  {
   "cell_type": "code",
   "execution_count": 54,
   "id": "4b338507-cdaa-4353-88ef-deacedc54089",
   "metadata": {},
   "outputs": [],
   "source": [
    "data=\"\"\"I love to play football\",\n",
    "    \"Football is a great game\",\n",
    "    \"I enjoy watching football matches\",\n",
    "    \"The team played well\",\n",
    "    \"Football brings people together\"\"\""
   ]
  },
  {
   "cell_type": "code",
   "execution_count": 55,
   "id": "685724b4-2b35-4adc-b1b0-5b2c1066e028",
   "metadata": {},
   "outputs": [
    {
     "data": {
      "text/plain": [
       "['I love to play football\",\\n    \"Football is a great game\",\\n    \"I enjoy watching football matches\",\\n    \"The team played well\",\\n    \"Football brings people together']"
      ]
     },
     "execution_count": 55,
     "metadata": {},
     "output_type": "execute_result"
    }
   ],
   "source": [
    "sentences = data.split('.')\n",
    "sentences\n"
   ]
  },
  {
   "cell_type": "code",
   "execution_count": 56,
   "id": "6d004b14-13d2-42ba-b1d0-14aaee2964af",
   "metadata": {},
   "outputs": [
    {
     "data": {
      "text/plain": [
       "['i love to play football football is a great game i enjoy watching football matches the team played well football brings people together']"
      ]
     },
     "execution_count": 56,
     "metadata": {},
     "output_type": "execute_result"
    }
   ],
   "source": [
    "clean_sent=[]\n",
    "for sentence in sentences:\n",
    "    if sentence==\"\":\n",
    "        continue\n",
    "    #remove spacial character\n",
    "    sentence = re.sub('[^A-Za-z0-9]+', ' ', (sentence))\n",
    "    #remove 1 letter words\n",
    "    sentence = re.sub(r'(?:^| )\\w (?:$| )', ' ', (sentence)).strip()\n",
    "    #lower all character\n",
    "    sentence = sentence.lower()\n",
    "    clean_sent.append(sentence)\n",
    "\n",
    "clean_sent"
   ]
  },
  {
   "cell_type": "code",
   "execution_count": 57,
   "id": "3c2f6297-26f6-4f6c-bb35-6ed9924723dc",
   "metadata": {},
   "outputs": [
    {
     "name": "stdout",
     "output_type": "stream",
     "text": [
      "[[2, 3, 4, 5, 1, 1, 6, 7, 8, 9, 2, 10, 11, 1, 12, 13, 14, 15, 16, 1, 17, 18, 19]]\n"
     ]
    }
   ],
   "source": [
    "#Tokenization: create a tokenizer and fit it on your cleaned sentences (clean_sent). This generates the word index.\n",
    "tokenizer = Tokenizer()\n",
    "tokenizer.fit_on_texts(clean_sent)\n",
    "sequences = tokenizer.texts_to_sequences(clean_sent)\n",
    "print(sequences)"
   ]
  },
  {
   "cell_type": "code",
   "execution_count": 58,
   "id": "d56ea0e7-6fa0-49ff-bced-79e7499b5b63",
   "metadata": {},
   "outputs": [
    {
     "name": "stdout",
     "output_type": "stream",
     "text": [
      "{2: 'i', 3: 'love', 4: 'to', 5: 'play', 1: 'football', 6: 'is', 7: 'a', 8: 'great', 9: 'game', 10: 'enjoy', 11: 'watching', 12: 'matches', 13: 'the', 14: 'team', 15: 'played', 16: 'well', 17: 'brings', 18: 'people', 19: 'together'} \n",
      "\n",
      "{'i': 2, 'love': 3, 'to': 4, 'play': 5, 'football': 1, 'is': 6, 'a': 7, 'great': 8, 'game': 9, 'enjoy': 10, 'watching': 11, 'matches': 12, 'the': 13, 'team': 14, 'played': 15, 'well': 16, 'brings': 17, 'people': 18, 'together': 19}\n"
     ]
    }
   ],
   "source": [
    "#Building Word Index Dictionaries: create mappings between indices and words.\n",
    "\n",
    "index_to_word = {}\n",
    "word_to_index = {}\n",
    "\n",
    "for i, sequence in enumerate(sequences):\n",
    "#     print(sequence)\n",
    "    word_in_sentence = clean_sent[i].split()   # Split sentence into words\n",
    "#     print(word_in_sentence)\n",
    "    \n",
    "    for j, value in enumerate(sequence):\n",
    "        index_to_word[value] = word_in_sentence[j]\n",
    "        word_to_index[word_in_sentence[j]] = value\n",
    "\n",
    "print(index_to_word, \"\\n\")\n",
    "print(word_to_index)"
   ]
  },
  {
   "cell_type": "markdown",
   "id": "aadc0e2e-b0ad-469b-85dd-8da7d4735e03",
   "metadata": {},
   "source": [
    "# B.Generate Training Data"
   ]
  },
  {
   "cell_type": "code",
   "execution_count": 59,
   "id": "ea4f7d8e-51e5-4667-8ba4-635ba3c3b4ab",
   "metadata": {},
   "outputs": [
    {
     "name": "stdout",
     "output_type": "stream",
     "text": [
      "[[2, 3, 5, 1], [3, 4, 1, 1], [4, 5, 1, 6], [5, 1, 6, 7], [1, 1, 7, 8], [1, 6, 8, 9], [6, 7, 9, 2], [7, 8, 2, 10], [8, 9, 10, 11], [9, 2, 11, 1], [2, 10, 1, 12], [10, 11, 12, 13], [11, 1, 13, 14], [1, 12, 14, 15], [12, 13, 15, 16], [13, 14, 16, 1], [14, 15, 1, 17], [15, 16, 17, 18], [16, 1, 18, 19]] \n",
      "\n",
      "[4, 5, 1, 1, 6, 7, 8, 9, 2, 10, 11, 1, 12, 13, 14, 15, 16, 1, 17]\n"
     ]
    }
   ],
   "source": [
    "# Calculate the vocabulary size and define the embedding size and context size for your CBOW model.\n",
    "\n",
    "vocab_size = len(tokenizer.word_index) + 1\n",
    "emb_size = 10\n",
    "context_size = 2\n",
    "# construct the contexts and their corresponding targets. The contexts consist of words surrounding the target word\n",
    "contexts = []\n",
    "targets = []\n",
    "\n",
    "for sequence in sequences:\n",
    "    for i in range(context_size, len(sequence) - context_size):\n",
    "        target = sequence[i]\n",
    "        context = [sequence[i - 2], sequence[i - 1], sequence[i + 1], sequence[i + 2]]\n",
    "#         print(context)\n",
    "        contexts.append(context)\n",
    "        targets.append(target)\n",
    "print(contexts, \"\\n\")\n",
    "print(targets)"
   ]
  },
  {
   "cell_type": "code",
   "execution_count": 60,
   "id": "9478b85b-002d-4722-8a9f-4434c3ed418a",
   "metadata": {},
   "outputs": [
    {
     "name": "stdout",
     "output_type": "stream",
     "text": [
      "['i', 'love', 'play', 'football']  ->  to\n",
      "['love', 'to', 'football', 'football']  ->  play\n",
      "['to', 'play', 'football', 'is']  ->  football\n",
      "['play', 'football', 'is', 'a']  ->  football\n",
      "['football', 'football', 'a', 'great']  ->  is\n"
     ]
    }
   ],
   "source": [
    "#printing context words and the target words for a clear understanding of the input-output pairs.\n",
    "for i in range(5):\n",
    "    words = []\n",
    "    target = index_to_word.get(targets[i])\n",
    "    for j in contexts[i]:\n",
    "        words.append(index_to_word.get(j))\n",
    "    print(words,\" -> \", target)\n"
   ]
  },
  {
   "cell_type": "code",
   "execution_count": 61,
   "id": "40cb3145-645f-4e66-a403-6f4bae6fa9a3",
   "metadata": {},
   "outputs": [],
   "source": [
    "# Convert the contexts and targets to numpy arrays\n",
    "X = np.array(contexts)\n",
    "Y = np.array(targets)\n"
   ]
  },
  {
   "cell_type": "markdown",
   "id": "ff589e7a-bbf1-4d59-8201-e7c263229505",
   "metadata": {},
   "source": [
    "# C. Train model"
   ]
  },
  {
   "cell_type": "code",
   "execution_count": 62,
   "id": "adf1b03e-3bd3-41fd-9582-6bd75d514c9a",
   "metadata": {},
   "outputs": [
    {
     "name": "stderr",
     "output_type": "stream",
     "text": [
      "/home/pdea/.local/lib/python3.10/site-packages/keras/src/layers/core/embedding.py:90: UserWarning: Argument `input_length` is deprecated. Just remove it.\n",
      "  warnings.warn(\n"
     ]
    }
   ],
   "source": [
    "#build the CBOW model\n",
    "\n",
    "model = Sequential([\n",
    "    Embedding(input_dim=vocab_size, output_dim=emb_size, input_length=2*context_size),\n",
    "    Lambda(lambda x: tf.reduce_mean(x, axis=1)),\n",
    "    Dense(256, activation='relu'),\n",
    "    Dense(512, activation='relu'),\n",
    "    Dense(vocab_size, activation='softmax')\n",
    "])\n"
   ]
  },
  {
   "cell_type": "code",
   "execution_count": 63,
   "id": "820b1963-e863-4965-9f13-802bde3c500c",
   "metadata": {},
   "outputs": [
    {
     "name": "stdout",
     "output_type": "stream",
     "text": [
      "Epoch 1/10\n",
      "\u001b[1m1/1\u001b[0m \u001b[32m━━━━━━━━━━━━━━━━━━━━\u001b[0m\u001b[37m\u001b[0m \u001b[1m1s\u001b[0m 925ms/step - accuracy: 0.1579 - loss: 2.9951\n",
      "Epoch 2/10\n",
      "\u001b[1m1/1\u001b[0m \u001b[32m━━━━━━━━━━━━━━━━━━━━\u001b[0m\u001b[37m\u001b[0m \u001b[1m0s\u001b[0m 20ms/step - accuracy: 0.2105 - loss: 2.9884\n",
      "Epoch 3/10\n",
      "\u001b[1m1/1\u001b[0m \u001b[32m━━━━━━━━━━━━━━━━━━━━\u001b[0m\u001b[37m\u001b[0m \u001b[1m0s\u001b[0m 27ms/step - accuracy: 0.2105 - loss: 2.9821\n",
      "Epoch 4/10\n",
      "\u001b[1m1/1\u001b[0m \u001b[32m━━━━━━━━━━━━━━━━━━━━\u001b[0m\u001b[37m\u001b[0m \u001b[1m0s\u001b[0m 67ms/step - accuracy: 0.2105 - loss: 2.9755\n",
      "Epoch 5/10\n",
      "\u001b[1m1/1\u001b[0m \u001b[32m━━━━━━━━━━━━━━━━━━━━\u001b[0m\u001b[37m\u001b[0m \u001b[1m0s\u001b[0m 22ms/step - accuracy: 0.2105 - loss: 2.9681\n",
      "Epoch 6/10\n",
      "\u001b[1m1/1\u001b[0m \u001b[32m━━━━━━━━━━━━━━━━━━━━\u001b[0m\u001b[37m\u001b[0m \u001b[1m0s\u001b[0m 59ms/step - accuracy: 0.2105 - loss: 2.9597\n",
      "Epoch 7/10\n",
      "\u001b[1m1/1\u001b[0m \u001b[32m━━━━━━━━━━━━━━━━━━━━\u001b[0m\u001b[37m\u001b[0m \u001b[1m0s\u001b[0m 20ms/step - accuracy: 0.2105 - loss: 2.9501\n",
      "Epoch 8/10\n",
      "\u001b[1m1/1\u001b[0m \u001b[32m━━━━━━━━━━━━━━━━━━━━\u001b[0m\u001b[37m\u001b[0m \u001b[1m0s\u001b[0m 20ms/step - accuracy: 0.2105 - loss: 2.9392\n",
      "Epoch 9/10\n",
      "\u001b[1m1/1\u001b[0m \u001b[32m━━━━━━━━━━━━━━━━━━━━\u001b[0m\u001b[37m\u001b[0m \u001b[1m0s\u001b[0m 23ms/step - accuracy: 0.2105 - loss: 2.9268\n",
      "Epoch 10/10\n",
      "\u001b[1m1/1\u001b[0m \u001b[32m━━━━━━━━━━━━━━━━━━━━\u001b[0m\u001b[37m\u001b[0m \u001b[1m0s\u001b[0m 19ms/step - accuracy: 0.2105 - loss: 2.9129\n"
     ]
    }
   ],
   "source": [
    "#Train the model\n",
    "model.compile(loss='sparse_categorical_crossentropy', optimizer='adam', metrics=['accuracy'])\n",
    "\n",
    "history = model.fit(X, Y, epochs=10)"
   ]
  },
  {
   "cell_type": "markdown",
   "id": "877a4ab7-4037-4173-a0a9-ac5f498a3d24",
   "metadata": {},
   "source": [
    "# D.Output(model prediction)"
   ]
  },
  {
   "cell_type": "code",
   "execution_count": 65,
   "id": "0eb9a5a4-ac21-433b-be1d-b05e8f0f790e",
   "metadata": {},
   "outputs": [
    {
     "name": "stdout",
     "output_type": "stream",
     "text": [
      "WARNING:tensorflow:6 out of the last 6 calls to <function TensorFlowTrainer.make_predict_function.<locals>.one_step_on_data_distributed at 0x7025fa2d7ac0> triggered tf.function retracing. Tracing is expensive and the excessive number of tracings could be due to (1) creating @tf.function repeatedly in a loop, (2) passing tensors with different shapes, (3) passing Python objects instead of tensors. For (1), please define your @tf.function outside of the loop. For (2), @tf.function has reduce_retracing=True option that can avoid unnecessary retracing. For (3), please refer to https://www.tensorflow.org/guide/function#controlling_retracing and https://www.tensorflow.org/api_docs/python/tf/function for  more details.\n",
      "\u001b[1m1/1\u001b[0m \u001b[32m━━━━━━━━━━━━━━━━━━━━\u001b[0m\u001b[37m\u001b[0m \u001b[1m0s\u001b[0m 47ms/step\n",
      "Predicted word: football\n"
     ]
    }
   ],
   "source": [
    "# Example prediction\n",
    "def predict_word(model, context):\n",
    "    context = np.array(context).reshape(1, -1)  # Reshape for the model\n",
    "    predictions = model.predict(context)\n",
    "    return index_to_word[np.argmax(predictions)]\n",
    "# Testing with an example context\n",
    "example_context = [1, 2, 3, 4]  # Replace with actual context indices\n",
    "predicted_word = predict_word(model, example_context)\n",
    "print(f'Predicted word: {predicted_word}')\n"
   ]
  },
  {
   "cell_type": "code",
   "execution_count": 47,
   "id": "528e4c84-db16-44a3-b997-29fa1f3151c4",
   "metadata": {},
   "outputs": [
    {
     "data": {
      "text/plain": [
       "<Axes: >"
      ]
     },
     "execution_count": 47,
     "metadata": {},
     "output_type": "execute_result"
    },
    {
     "data": {
      "image/png": "[encoded data removed]",
      "text/plain": [
       "<Figure size 640x480 with 1 Axes>"
      ]
     },
     "metadata": {},
     "output_type": "display_data"
    }
   ],
   "source": [
    "#optional\n",
    "\n",
    "sns.lineplot(model.history.history)"
   ]
  },
  {
   "cell_type": "code",
   "execution_count": null,
   "id": "3572b868-3706-4b47-9c1e-0661fc312093",
   "metadata": {},
   "outputs": [],
   "source": []
  }
 ],
 "metadata": {
  "kernelspec": {
   "display_name": "Python 3 (ipykernel)",
   "language": "python",
   "name": "python3"
  },
  "language_info": {
   "codemirror_mode": {
    "name": "ipython",
    "version": 3
   },
   "file_extension": ".py",
   "mimetype": "text/x-python",
   "name": "python",
   "nbconvert_exporter": "python",
   "pygments_lexer": "ipython3",
   "version": "3.10.12"
  }
 },
 "nbformat": 4,
 "nbformat_minor": 5
}
